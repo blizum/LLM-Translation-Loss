{
  "nbformat": 4,
  "nbformat_minor": 0,
  "metadata": {
    "colab": {
      "provenance": []
    },
    "kernelspec": {
      "name": "python3",
      "display_name": "Python 3"
    },
    "language_info": {
      "name": "python"
    }
  },
  "cells": [
    {
      "cell_type": "code",
      "source": [
        "!pip install langgraph langchain langchain_groq langchain_community"
      ],
      "metadata": {
        "colab": {
          "base_uri": "https://localhost:8080/"
        },
        "collapsed": true,
        "id": "s0jh85k2byLj",
        "outputId": "1f5cbb49-3363-4083-e7b4-27ded233f00e"
      },
      "execution_count": null,
      "outputs": [
        {
          "output_type": "stream",
          "name": "stdout",
          "text": [
            "Requirement already satisfied: langgraph in /usr/local/lib/python3.10/dist-packages (0.2.50)\n",
            "Requirement already satisfied: langchain in /usr/local/lib/python3.10/dist-packages (0.3.7)\n",
            "Requirement already satisfied: langchain_groq in /usr/local/lib/python3.10/dist-packages (0.2.1)\n",
            "Requirement already satisfied: langchain_community in /usr/local/lib/python3.10/dist-packages (0.3.7)\n",
            "Requirement already satisfied: langchain-core!=0.3.0,!=0.3.1,!=0.3.10,!=0.3.11,!=0.3.12,!=0.3.13,!=0.3.14,!=0.3.2,!=0.3.3,!=0.3.4,!=0.3.5,!=0.3.6,!=0.3.7,!=0.3.8,!=0.3.9,<0.4.0,>=0.2.43 in /usr/local/lib/python3.10/dist-packages (from langgraph) (0.3.17)\n",
            "Requirement already satisfied: langgraph-checkpoint<3.0.0,>=2.0.4 in /usr/local/lib/python3.10/dist-packages (from langgraph) (2.0.4)\n",
            "Requirement already satisfied: langgraph-sdk<0.2.0,>=0.1.32 in /usr/local/lib/python3.10/dist-packages (from langgraph) (0.1.36)\n",
            "Requirement already satisfied: PyYAML>=5.3 in /usr/local/lib/python3.10/dist-packages (from langchain) (6.0.2)\n",
            "Requirement already satisfied: SQLAlchemy<3,>=1.4 in /usr/local/lib/python3.10/dist-packages (from langchain) (2.0.35)\n",
            "Requirement already satisfied: aiohttp<4.0.0,>=3.8.3 in /usr/local/lib/python3.10/dist-packages (from langchain) (3.10.10)\n",
            "Requirement already satisfied: async-timeout<5.0.0,>=4.0.0 in /usr/local/lib/python3.10/dist-packages (from langchain) (4.0.3)\n",
            "Requirement already satisfied: langchain-text-splitters<0.4.0,>=0.3.0 in /usr/local/lib/python3.10/dist-packages (from langchain) (0.3.2)\n",
            "Requirement already satisfied: langsmith<0.2.0,>=0.1.17 in /usr/local/lib/python3.10/dist-packages (from langchain) (0.1.142)\n",
            "Requirement already satisfied: numpy<2,>=1 in /usr/local/lib/python3.10/dist-packages (from langchain) (1.26.4)\n",
            "Requirement already satisfied: pydantic<3.0.0,>=2.7.4 in /usr/local/lib/python3.10/dist-packages (from langchain) (2.9.2)\n",
            "Requirement already satisfied: requests<3,>=2 in /usr/local/lib/python3.10/dist-packages (from langchain) (2.32.3)\n",
            "Requirement already satisfied: tenacity!=8.4.0,<10,>=8.1.0 in /usr/local/lib/python3.10/dist-packages (from langchain) (9.0.0)\n",
            "Requirement already satisfied: groq<1,>=0.4.1 in /usr/local/lib/python3.10/dist-packages (from langchain_groq) (0.12.0)\n",
            "Requirement already satisfied: dataclasses-json<0.7,>=0.5.7 in /usr/local/lib/python3.10/dist-packages (from langchain_community) (0.6.7)\n",
            "Requirement already satisfied: httpx-sse<0.5.0,>=0.4.0 in /usr/local/lib/python3.10/dist-packages (from langchain_community) (0.4.0)\n",
            "Requirement already satisfied: pydantic-settings<3.0.0,>=2.4.0 in /usr/local/lib/python3.10/dist-packages (from langchain_community) (2.6.1)\n",
            "Requirement already satisfied: aiohappyeyeballs>=2.3.0 in /usr/local/lib/python3.10/dist-packages (from aiohttp<4.0.0,>=3.8.3->langchain) (2.4.3)\n",
            "Requirement already satisfied: aiosignal>=1.1.2 in /usr/local/lib/python3.10/dist-packages (from aiohttp<4.0.0,>=3.8.3->langchain) (1.3.1)\n",
            "Requirement already satisfied: attrs>=17.3.0 in /usr/local/lib/python3.10/dist-packages (from aiohttp<4.0.0,>=3.8.3->langchain) (24.2.0)\n",
            "Requirement already satisfied: frozenlist>=1.1.1 in /usr/local/lib/python3.10/dist-packages (from aiohttp<4.0.0,>=3.8.3->langchain) (1.5.0)\n",
            "Requirement already satisfied: multidict<7.0,>=4.5 in /usr/local/lib/python3.10/dist-packages (from aiohttp<4.0.0,>=3.8.3->langchain) (6.1.0)\n",
            "Requirement already satisfied: yarl<2.0,>=1.12.0 in /usr/local/lib/python3.10/dist-packages (from aiohttp<4.0.0,>=3.8.3->langchain) (1.17.1)\n",
            "Requirement already satisfied: marshmallow<4.0.0,>=3.18.0 in /usr/local/lib/python3.10/dist-packages (from dataclasses-json<0.7,>=0.5.7->langchain_community) (3.23.1)\n",
            "Requirement already satisfied: typing-inspect<1,>=0.4.0 in /usr/local/lib/python3.10/dist-packages (from dataclasses-json<0.7,>=0.5.7->langchain_community) (0.9.0)\n",
            "Requirement already satisfied: anyio<5,>=3.5.0 in /usr/local/lib/python3.10/dist-packages (from groq<1,>=0.4.1->langchain_groq) (3.7.1)\n",
            "Requirement already satisfied: distro<2,>=1.7.0 in /usr/local/lib/python3.10/dist-packages (from groq<1,>=0.4.1->langchain_groq) (1.9.0)\n",
            "Requirement already satisfied: httpx<1,>=0.23.0 in /usr/local/lib/python3.10/dist-packages (from groq<1,>=0.4.1->langchain_groq) (0.27.2)\n",
            "Requirement already satisfied: sniffio in /usr/local/lib/python3.10/dist-packages (from groq<1,>=0.4.1->langchain_groq) (1.3.1)\n",
            "Requirement already satisfied: typing-extensions<5,>=4.7 in /usr/local/lib/python3.10/dist-packages (from groq<1,>=0.4.1->langchain_groq) (4.12.2)\n",
            "Requirement already satisfied: jsonpatch<2.0,>=1.33 in /usr/local/lib/python3.10/dist-packages (from langchain-core!=0.3.0,!=0.3.1,!=0.3.10,!=0.3.11,!=0.3.12,!=0.3.13,!=0.3.14,!=0.3.2,!=0.3.3,!=0.3.4,!=0.3.5,!=0.3.6,!=0.3.7,!=0.3.8,!=0.3.9,<0.4.0,>=0.2.43->langgraph) (1.33)\n",
            "Requirement already satisfied: packaging<25,>=23.2 in /usr/local/lib/python3.10/dist-packages (from langchain-core!=0.3.0,!=0.3.1,!=0.3.10,!=0.3.11,!=0.3.12,!=0.3.13,!=0.3.14,!=0.3.2,!=0.3.3,!=0.3.4,!=0.3.5,!=0.3.6,!=0.3.7,!=0.3.8,!=0.3.9,<0.4.0,>=0.2.43->langgraph) (24.2)\n",
            "Requirement already satisfied: msgpack<2.0.0,>=1.1.0 in /usr/local/lib/python3.10/dist-packages (from langgraph-checkpoint<3.0.0,>=2.0.4->langgraph) (1.1.0)\n",
            "Requirement already satisfied: orjson>=3.10.1 in /usr/local/lib/python3.10/dist-packages (from langgraph-sdk<0.2.0,>=0.1.32->langgraph) (3.10.11)\n",
            "Requirement already satisfied: requests-toolbelt<2.0.0,>=1.0.0 in /usr/local/lib/python3.10/dist-packages (from langsmith<0.2.0,>=0.1.17->langchain) (1.0.0)\n",
            "Requirement already satisfied: annotated-types>=0.6.0 in /usr/local/lib/python3.10/dist-packages (from pydantic<3.0.0,>=2.7.4->langchain) (0.7.0)\n",
            "Requirement already satisfied: pydantic-core==2.23.4 in /usr/local/lib/python3.10/dist-packages (from pydantic<3.0.0,>=2.7.4->langchain) (2.23.4)\n",
            "Requirement already satisfied: python-dotenv>=0.21.0 in /usr/local/lib/python3.10/dist-packages (from pydantic-settings<3.0.0,>=2.4.0->langchain_community) (1.0.1)\n",
            "Requirement already satisfied: charset-normalizer<4,>=2 in /usr/local/lib/python3.10/dist-packages (from requests<3,>=2->langchain) (3.4.0)\n",
            "Requirement already satisfied: idna<4,>=2.5 in /usr/local/lib/python3.10/dist-packages (from requests<3,>=2->langchain) (3.10)\n",
            "Requirement already satisfied: urllib3<3,>=1.21.1 in /usr/local/lib/python3.10/dist-packages (from requests<3,>=2->langchain) (2.2.3)\n",
            "Requirement already satisfied: certifi>=2017.4.17 in /usr/local/lib/python3.10/dist-packages (from requests<3,>=2->langchain) (2024.8.30)\n",
            "Requirement already satisfied: greenlet!=0.4.17 in /usr/local/lib/python3.10/dist-packages (from SQLAlchemy<3,>=1.4->langchain) (3.1.1)\n",
            "Requirement already satisfied: exceptiongroup in /usr/local/lib/python3.10/dist-packages (from anyio<5,>=3.5.0->groq<1,>=0.4.1->langchain_groq) (1.2.2)\n",
            "Requirement already satisfied: httpcore==1.* in /usr/local/lib/python3.10/dist-packages (from httpx<1,>=0.23.0->groq<1,>=0.4.1->langchain_groq) (1.0.6)\n",
            "Requirement already satisfied: h11<0.15,>=0.13 in /usr/local/lib/python3.10/dist-packages (from httpcore==1.*->httpx<1,>=0.23.0->groq<1,>=0.4.1->langchain_groq) (0.14.0)\n",
            "Requirement already satisfied: jsonpointer>=1.9 in /usr/local/lib/python3.10/dist-packages (from jsonpatch<2.0,>=1.33->langchain-core!=0.3.0,!=0.3.1,!=0.3.10,!=0.3.11,!=0.3.12,!=0.3.13,!=0.3.14,!=0.3.2,!=0.3.3,!=0.3.4,!=0.3.5,!=0.3.6,!=0.3.7,!=0.3.8,!=0.3.9,<0.4.0,>=0.2.43->langgraph) (3.0.0)\n",
            "Requirement already satisfied: mypy-extensions>=0.3.0 in /usr/local/lib/python3.10/dist-packages (from typing-inspect<1,>=0.4.0->dataclasses-json<0.7,>=0.5.7->langchain_community) (1.0.0)\n",
            "Requirement already satisfied: propcache>=0.2.0 in /usr/local/lib/python3.10/dist-packages (from yarl<2.0,>=1.12.0->aiohttp<4.0.0,>=3.8.3->langchain) (0.2.0)\n"
          ]
        }
      ]
    },
    {
      "cell_type": "code",
      "source": [
        "from google.colab import userdata\n",
        "groq=userdata.get('Groq_key1')"
      ],
      "metadata": {
        "id": "bw0sj4ogay1T"
      },
      "execution_count": null,
      "outputs": []
    },
    {
      "cell_type": "code",
      "source": [
        "import os\n",
        "from typing import Annotated\n",
        "from typing_extensions import TypedDict\n",
        "\n",
        "from langchain_core.output_parsers import JsonOutputParser, StrOutputParser\n",
        "from langchain_core.prompts import PromptTemplate\n",
        "\n",
        "from langgraph.graph import StateGraph,START,END\n",
        "from langgraph.graph.message import add_messages\n",
        "from langchain_groq import ChatGroq"
      ],
      "metadata": {
        "id": "bhhSMk6GboV8"
      },
      "execution_count": null,
      "outputs": []
    },
    {
      "cell_type": "code",
      "source": [
        "llm=ChatGroq(groq_api_key=groq, model_name=\"llama-3.1-70b-versatile\")"
      ],
      "metadata": {
        "id": "bTMITYbHbXrq"
      },
      "execution_count": null,
      "outputs": []
    },
    {
      "cell_type": "code",
      "source": [
        "# State for the graph\n",
        "class State(TypedDict):\n",
        "  initial_text : str\n",
        "  target_language : str\n",
        "  translated_text : str\n",
        "  back_translated_text : str\n",
        "  evaluation_scores : str"
      ],
      "metadata": {
        "id": "mZ6cL1jBeXT0"
      },
      "execution_count": null,
      "outputs": []
    },
    {
      "cell_type": "code",
      "execution_count": null,
      "metadata": {
        "id": "opCl76hfaqg9"
      },
      "outputs": [],
      "source": [
        "# Translation Chain\n",
        "translation_prompt = PromptTemplate(\n",
        "    template=\"\"\"<|begin_of_text|><|start_header_id|>system<|end_header_id|>\n",
        "    You are a translation agent. Translate the following {initial_text} from English to {target_language}.\n",
        "\n",
        "    <|eot_id|><|start_header_id|>user<|end_header_id|>\n",
        "    INITIAL_TEXT: {initial_text}\n",
        "    <|eot_id|><|start_header_id|>assistant<|end_header_id|>\"\"\",\n",
        "    input_variables=[\"initial_text\", \"target_language\"],\n",
        ")\n",
        "translator = translation_prompt | llm | StrOutputParser()\n",
        "\n",
        "# Back-Translation Chain\n",
        "back_translation_prompt = PromptTemplate(\n",
        "    template=\"\"\"<|begin_of_text|><|start_header_id|>system<|end_header_id|>\n",
        "    You are a back-translation agent. Translate the following {translated_text} back from {target_language} to English.\n",
        "\n",
        "    <|eot_id|><|start_header_id|>user<|end_header_id|>\n",
        "    TRANSLATED_TEXT: {translated_text}\n",
        "    <|eot_id|><|start_header_id|>assistant<|end_header_id|>\"\"\",\n",
        "    input_variables=[\"translated_text\", \"target_language\"],\n",
        ")\n",
        "back_translator = back_translation_prompt | llm | StrOutputParser()\n",
        "\n",
        "# Evaluation Chain\n",
        "evaluation_prompt = PromptTemplate(\n",
        "    template=\"\"\"<|begin_of_text|><|start_header_id|>system<|end_header_id|>\n",
        "    Evaluate the fidelity of the back-translation against the original text.\n",
        "    Return the analysis as JSON with one key 'evaluation_score' and no premable or explanation.\n",
        "\n",
        "    <|eot_id|><|start_header_id|>user<|end_header_id|>\n",
        "    INITIAL_TEXT: {initial_text}\n",
        "    BACK_TRANSLATED_TEXT: {back_translated_text}\n",
        "    <|eot_id|><|start_header_id|>assistant<|end_header_id|>\"\"\",\n",
        "    input_variables=[\"initial_text\", \"back_translated_text\"],\n",
        ")\n",
        "evaluator = evaluation_prompt | llm | JsonOutputParser()"
      ]
    },
    {
      "cell_type": "code",
      "source": [
        "# Workflow Nodes\n",
        "def perform_translation(state):\n",
        "    print(\"---TRANSLATING TEXT---\")\n",
        "    print(f\"Original Text: {state['initial_text']}\")\n",
        "    initial_text = state['initial_text']\n",
        "    target_language = state['target_language']\n",
        "\n",
        "    translated_text = translator.invoke({\n",
        "        \"initial_text\": initial_text,\n",
        "        \"target_language\": target_language,\n",
        "    })\n",
        "    print(translated_text)\n",
        "    return {\"translated_text\": translated_text}\n",
        "\n",
        "def perform_back_translation(state):\n",
        "    print(\"---BACK-TRANSLATING TEXT---\")\n",
        "    translated_text = state['translated_text']\n",
        "    target_language = state['target_language']\n",
        "\n",
        "    back_translated_text = back_translator.invoke({\n",
        "        \"translated_text\": translated_text,\n",
        "        \"target_language\": target_language,\n",
        "    })\n",
        "    print(back_translated_text)\n",
        "    return {\"back_translated_text\": back_translated_text}\n",
        "\n",
        "def evaluate_translation(state):\n",
        "    print(\"---EVALUATING TRANSLATION---\")\n",
        "    initial_text = state['initial_text']\n",
        "    back_translated_text = state['back_translated_text']\n",
        "\n",
        "    evaluation_scores = evaluator.invoke({\n",
        "        \"initial_text\": initial_text,\n",
        "        \"back_translated_text\": back_translated_text,\n",
        "    })\n",
        "    print(evaluation_scores)\n",
        "    return {\"evaluation_scores\": evaluation_scores}\n",
        "\n",
        "def summarize_results(state):\n",
        "    print(\"---SUMMARIZING RESULTS---\")\n",
        "    summary = {\n",
        "        \"initial_text\": state['initial_text'],\n",
        "        \"target_language\": state['target_language'],\n",
        "        \"translated_text\": state['translated_text'],\n",
        "        \"back_translated_text\": state['back_translated_text'],\n",
        "        \"evaluation_scores\": state['evaluation_scores'],\n",
        "    }\n",
        "    return summary"
      ],
      "metadata": {
        "id": "Med0Hq7ykls3"
      },
      "execution_count": null,
      "outputs": []
    },
    {
      "cell_type": "code",
      "source": [
        "workflow = StateGraph(State)\n",
        "\n",
        "workflow.add_node(\"perform_translation\", perform_translation)\n",
        "workflow.add_node(\"perform_back_translation\", perform_back_translation)\n",
        "workflow.add_node(\"evaluate_translation\", evaluate_translation)\n",
        "workflow.add_node(\"summarize_results\", summarize_results)\n",
        "\n",
        "workflow.add_edge(START, \"perform_translation\")\n",
        "workflow.add_edge(\"perform_translation\", \"perform_back_translation\")\n",
        "workflow.add_edge(\"perform_back_translation\", \"evaluate_translation\")\n",
        "workflow.add_edge(\"evaluate_translation\", \"summarize_results\")\n",
        "workflow.add_edge(\"summarize_results\", END)\n",
        "\n",
        "graph = workflow.compile()"
      ],
      "metadata": {
        "id": "S3dXa9tnjB6Z"
      },
      "execution_count": null,
      "outputs": []
    },
    {
      "cell_type": "code",
      "source": [
        "from IPython.display import Image, display\n",
        "try:\n",
        "  display(Image(graph.get_graph().draw_mermaid_png()))\n",
        "except Exception:\n",
        "  pass"
      ],
      "metadata": {
        "colab": {
          "base_uri": "https://localhost:8080/",
          "height": 548
        },
        "id": "GoHx1rfvlu9M",
        "outputId": "65f6c6db-4117-47d5-f72e-3cfa3d5b095f"
      },
      "execution_count": null,
      "outputs": [
        {
          "output_type": "display_data",
          "data": {
            "image/png": "[encoded data removed]",
            "text/plain": [
              "<IPython.core.display.Image object>"
            ]
          },
          "metadata": {}
        }
      ]
    },
    {
      "cell_type": "code",
      "source": [
        "# StateGraph Definition\n",
        "test_sentence = \"I love blue skies and red sunsets\"\n",
        "tgt = \"Assamese\"\n",
        "inputs = {\"initial_text\": test_sentence,\"target_language\": tgt}"
      ],
      "metadata": {
        "id": "I65BonrJkpgv"
      },
      "execution_count": null,
      "outputs": []
    },
    {
      "cell_type": "code",
      "source": [
        "print(graph.invoke(inputs))"
      ],
      "metadata": {
        "colab": {
          "base_uri": "https://localhost:8080/"
        },
        "id": "lco326SwwUqd",
        "outputId": "e96f38c4-2262-456b-e9bd-df1ee985c33e"
      },
      "execution_count": null,
      "outputs": [
        {
          "output_type": "stream",
          "name": "stdout",
          "text": [
            "---TRANSLATING TEXT---\n",
            "Original Text: I love blue skies and red sunsets\n",
            "মই নীলা আকাশ আৰু ৰঙা সূৰ্যাস্তক ভাল পাওঁ \n",
            "\n",
            "(Translation: I love blue skies and red sunsets)\n",
            "\n",
            "Here's the breakdown:\n",
            "\n",
            "- I: মই (moi)\n",
            "- love: ভাল পাওঁ (bhal paon)\n",
            "- blue: নীলা (neela)\n",
            "- skies: আকাশ (akax)\n",
            "- and: আৰু (aru)\n",
            "- red: ৰঙা (ronga)\n",
            "- sunsets: সূৰ্যাস্ত (suryast)\n",
            "---BACK-TRANSLATING TEXT---\n",
            "I love blue skies and red sunsets\n",
            "---EVALUATING TRANSLATION---\n",
            "{'evaluation_score': 1}\n",
            "---SUMMARIZING RESULTS---\n",
            "{'initial_text': 'I love blue skies and red sunsets', 'target_language': 'Assamese', 'translated_text': \"মই নীলা আকাশ আৰু ৰঙা সূৰ্যাস্তক ভাল পাওঁ \\n\\n(Translation: I love blue skies and red sunsets)\\n\\nHere's the breakdown:\\n\\n- I: মই (moi)\\n- love: ভাল পাওঁ (bhal paon)\\n- blue: নীলা (neela)\\n- skies: আকাশ (akax)\\n- and: আৰু (aru)\\n- red: ৰঙা (ronga)\\n- sunsets: সূৰ্যাস্ত (suryast)\", 'back_translated_text': 'I love blue skies and red sunsets', 'evaluation_scores': {'evaluation_score': 1}}\n"
          ]
        }
      ]
    }
  ]
}